{
 "cells": [
  {
   "cell_type": "code",
   "execution_count": 1,
   "metadata": {},
   "outputs": [
    {
     "name": "stdout",
     "output_type": "stream",
     "text": [
      "[INFO] starting video stream...\n",
      "End of video\n",
      "[INFO] cleaning up...\n"
     ]
    }
   ],
   "source": [
    "# import the necessary packages\n",
    "from imutils.video import FileVideoStream    #FileVideoStream for slower speed   #VideoStream for higher speed\n",
    "from pyzbar import pyzbar\n",
    "import datetime\n",
    "import imutils\n",
    "import time\n",
    "import cv2\n",
    "\n",
    "# initialize the video stream \n",
    "print(\"[INFO] starting video stream...\")\n",
    "vs = FileVideoStream(\"./videos/test2.mp4\").start()   \n",
    "\n",
    "# open the output CSV file for writing and initialize the set of\n",
    "# barcodes found thus far\n",
    "csv = open(\"./output_files/results1.csv\", \"w\")\n",
    "csv.write(\"Time Stamp,Barcode Data,Barcode Type\\n\")\n",
    "found = set()\n",
    "found_time = set()\n",
    "count = 0\n",
    "\n",
    "try:\n",
    "    # loop over the frames from the video stream\n",
    "    while True:  \n",
    "        # grab the frame from the threaded video stream and resize it to\n",
    "        # have a maximum width of x pixels\n",
    "        frame = vs.read()\n",
    "        frame = imutils.resize(frame, width = 1225)   #width = x pixels\n",
    "    \n",
    "        # find the barcodes in the frame and decode each of the barcodes\n",
    "        barcodes = pyzbar.decode(frame)\n",
    "\n",
    "    # loop over the detected barcodes\n",
    "        for barcode in barcodes:\n",
    "            # extract the bounding box location of the barcode and draw\n",
    "            # the bounding box surrounding the barcode on the image\n",
    "            (x, y, w, h) = barcode.rect\n",
    "            cv2.rectangle(frame, (x, y), (x + w, y + h), (0, 0, 255), 2)\n",
    "\n",
    "            # the barcode data is a bytes object so if we want to draw it\n",
    "            # on our output image we need to convert it to a string first\n",
    "            barcodeData = barcode.data.decode(\"utf-8\")\n",
    "            barcodeType = barcode.type\n",
    "\n",
    "            # draw the barcode data and barcode type on the image\n",
    "            text = \"{} ({})\".format(barcodeData, barcodeType)\n",
    "            cv2.putText(frame, text, (x, y - 10), cv2.FONT_HERSHEY_SIMPLEX, 0.5, (0, 0, 255), 2)\n",
    "                \n",
    "            # if the barcode text is currently not in our CSV file, write\n",
    "            # the timestamp + barcode data + barcode type to disk and update the set\n",
    "            if barcodeData not in found:\n",
    "                csv.write(\"{},{},{}\\n\".format(datetime.datetime.now(), barcodeData, barcodeType))\n",
    "                csv.flush()\n",
    "                found.add(barcodeData)\n",
    "                #print(found)    #for printing stored barcode values\n",
    "                \n",
    "        # show the output frame\n",
    "        cv2.imshow(\"Barcode Scanner\", frame)\n",
    "        #cv2.imwrite(\"./frames/frame({}).jpg\".format(count),frame)   #for saving the video frame by frame\n",
    "        key = cv2.waitKey(1) & 0xFF\n",
    "\n",
    "        # if the `q` key was pressed, break from the loop\n",
    "        if key == ord(\"q\"):\n",
    "            break\n",
    "        count = count + 1\n",
    "\n",
    "except AttributeError :    #exception to handle the end of the video\n",
    "        print(\"End of video\")\n",
    "        \n",
    "# close the output CSV file do a bit of cleanup    \n",
    "print(\"[INFO] cleaning up...\")\n",
    "csv.close()\n",
    "cv2.destroyAllWindows()\n",
    "vs.stop()"
   ]
  }
 ],
 "metadata": {
  "kernelspec": {
   "display_name": "Python 3",
   "language": "python",
   "name": "python3"
  },
  "language_info": {
   "codemirror_mode": {
    "name": "ipython",
    "version": 3
   },
   "file_extension": ".py",
   "mimetype": "text/x-python",
   "name": "python",
   "nbconvert_exporter": "python",
   "pygments_lexer": "ipython3",
   "version": "3.7.3"
  }
 },
 "nbformat": 4,
 "nbformat_minor": 2
}
